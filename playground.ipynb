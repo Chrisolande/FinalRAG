{
 "cells": [
  {
   "cell_type": "code",
   "execution_count": 1,
   "metadata": {
    "cellUniqueIdByVincent": "67e85"
   },
   "outputs": [],
   "source": [
    "from Bio import Entrez\n",
    "import pandas as pd\n",
    "import os\n",
    "import time\n",
    "import json\n",
    "from datetime import datetime\n",
    "import xml.etree.ElementTree as ET"
   ]
  },
  {
   "cell_type": "code",
   "execution_count": null,
   "metadata": {
    "cellUniqueIdByVincent": "36e52"
   },
   "outputs": [],
   "source": [
    "def search_pubmed(query, max_results = 1, date_from = None, date_to = None, sort_order = \"relevance\", publication_types = None):\n",
    "    \n",
    "    search_term = query\n",
    "\n",
    "    # Add date filters\n",
    "    if date_from or date_to:\n",
    "        if date_from and date_to:\n",
    "            search_term += f' AND {date_from}[PDAT]:{date_to}[PDAT]'\n",
    "        elif date_from:\n",
    "            search_term += f' AND {date_from}[PDAT]:3000[PDAT]'\n",
    "        elif date_to:\n",
    "            search_term += f' AND 1900[PDAT]:{date_to}[PDAT]'\n",
    "\n",
    "    # Add publication type filters\n",
    "    if publication_types:\n",
    "        pub_filter = ' OR '.join([f'\"{pt}\"[Publication Type]' for pt in publication_types])\n",
    "        search_term += f' AND ({pub_filter})'\n",
    "    \n",
    "    print(f\"Searching PubMed with query: {search_term}\")\n",
    "\n",
    "    try: \n",
    "        # Perform the search\n",
    "        handle = Entrez.esearch(\n",
    "            db = \"pubmed\",\n",
    "            term=search_term,\n",
    "            retmax=max_results,\n",
    "            sort=sort_order\n",
    "        )\n",
    "\n",
    "        search_results = Entrez.read(handle)\n",
    "\n",
    "        handle.close()\n",
    "\n",
    "        pmids = search_results[\"IdList\"]\n",
    "        count = int(search_results[\"Count\"])\n",
    "        \n",
    "        print(f\"Found {count} total articles, retrieving {len(pmids)} IDs\")\n",
    "        return pmids\n",
    "\n",
    "    except Exception as e:\n",
    "        print(f\"Search error: {e}\")\n",
    "        return []\n",
    "\n",
    "        "
   ]
  },
  {
   "cell_type": "code",
   "execution_count": 6,
   "metadata": {
    "cellUniqueIdByVincent": "b4b05"
   },
   "outputs": [
    {
     "name": "stdout",
     "output_type": "stream",
     "text": [
      "Searching PubMed with query: Kurt Cobain\n",
      "Found 4 total articles, retrieving 1 IDs\n"
     ]
    },
    {
     "data": {
      "text/plain": [
       "['7988166']"
      ]
     },
     "execution_count": 6,
     "metadata": {},
     "output_type": "execute_result"
    }
   ],
   "source": [
    "search_pubmed(\"Kurt Cobain\")"
   ]
  },
  {
   "cell_type": "code",
   "execution_count": null,
   "metadata": {
    "cellUniqueIdByVincent": "029cb"
   },
   "outputs": [],
   "source": [
    "https://pubmed.ncbi.nlm.nih.gov/7988166"
   ]
  }
 ],
 "metadata": {
  "kernelspec": {
   "display_name": ".venv",
   "language": "python",
   "name": "python3"
  },
  "language_info": {
   "codemirror_mode": {
    "name": "ipython",
    "version": 3
   },
   "file_extension": ".py",
   "mimetype": "text/x-python",
   "name": "python",
   "nbconvert_exporter": "python",
   "pygments_lexer": "ipython3",
   "version": "3.13.3"
  },
  "vincent": {
   "sessionId": "205dfd640fc5b077051ac09e_2025-06-04T10-49-23-812Z"
  }
 },
 "nbformat": 4,
 "nbformat_minor": 5
}
