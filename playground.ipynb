{
 "cells": [
  {
   "cell_type": "code",
   "execution_count": 1,
   "metadata": {
    "cellUniqueIdByVincent": "67e85"
   },
   "outputs": [],
   "source": [
    "from Bio import Entrez\n",
    "import pandas as pd\n",
    "import os\n",
    "import time\n",
    "import json\n",
    "from datetime import datetime\n",
    "import xml.etree.ElementTree as ET"
   ]
  },
  {
   "cell_type": "code",
   "execution_count": 13,
   "metadata": {
    "cellUniqueIdByVincent": "6f537"
   },
   "outputs": [],
   "source": [
    "Entrez.email = \"olandechris@gmail.com\""
   ]
  },
  {
   "cell_type": "code",
   "execution_count": null,
   "metadata": {
    "cellUniqueIdByVincent": "36e52"
   },
   "outputs": [],
   "source": [
    "def search_pubmed(query, max_results = 1, date_from = None, date_to = None, sort_order = \"relevance\", publication_types = None):\n",
    "    \n",
    "    search_term = query\n",
    "\n",
    "    # Add date filters\n",
    "    if date_from or date_to:\n",
    "        if date_from and date_to:\n",
    "            search_term += f' AND {date_from}[PDAT]:{date_to}[PDAT]'\n",
    "        elif date_from:\n",
    "            search_term += f' AND {date_from}[PDAT]:3000[PDAT]'\n",
    "        elif date_to:\n",
    "            search_term += f' AND 1900[PDAT]:{date_to}[PDAT]'\n",
    "\n",
    "    # Add publication type filters\n",
    "    if publication_types:\n",
    "        pub_filter = ' OR '.join([f'\"{pt}\"[Publication Type]' for pt in publication_types])\n",
    "        search_term += f' AND ({pub_filter})'\n",
    "    \n",
    "    print(f\"Searching PubMed with query: {search_term}\")\n",
    "\n",
    "    try: \n",
    "        # Perform the search\n",
    "        handle = Entrez.esearch(\n",
    "            db = \"pubmed\",\n",
    "            term=search_term,\n",
    "            retmax=max_results,\n",
    "            sort=sort_order\n",
    "        )\n",
    "\n",
    "        search_results = Entrez.read(handle)\n",
    "\n",
    "        handle.close()\n",
    "\n",
    "        pmids = search_results[\"IdList\"]\n",
    "        count = int(search_results[\"Count\"])\n",
    "        \n",
    "        print(f\"Found {count} total articles, retrieving {len(pmids)} IDs\")\n",
    "        return pmids\n",
    "\n",
    "    except Exception as e:\n",
    "        print(f\"Search error: {e}\")\n",
    "        return []\n",
    "\n",
    "        "
   ]
  },
  {
   "cell_type": "code",
   "execution_count": 6,
   "metadata": {
    "cellUniqueIdByVincent": "b4b05"
   },
   "outputs": [
    {
     "name": "stdout",
     "output_type": "stream",
     "text": [
      "Searching PubMed with query: Kurt Cobain\n",
      "Found 4 total articles, retrieving 1 IDs\n"
     ]
    },
    {
     "data": {
      "text/plain": [
       "['7988166']"
      ]
     },
     "execution_count": 6,
     "metadata": {},
     "output_type": "execute_result"
    }
   ],
   "source": [
    "search_pubmed(\"Kurt Cobain\")"
   ]
  },
  {
   "cell_type": "code",
   "execution_count": null,
   "metadata": {
    "cellUniqueIdByVincent": "029cb"
   },
   "outputs": [],
   "source": [
    "https://pubmed.ncbi.nlm.nih.gov/7988166"
   ]
  },
  {
   "cell_type": "code",
   "execution_count": 9,
   "metadata": {
    "cellUniqueIdByVincent": "42b51"
   },
   "outputs": [],
   "source": [
    "def parse_article(summary, record):\n",
    "    \"\"\"Parse article summary and record into structured data\"\"\"\n",
    "    try:\n",
    "        # Basic info from summary\n",
    "        pmid = str(summary.get('Id', ''))\n",
    "        title = summary.get('Title', '').strip()\n",
    "        \n",
    "        # Journal info\n",
    "        journal = summary.get('Source', '')\n",
    "        pub_date = summary.get('PubDate', '')\n",
    "        \n",
    "        # Authors from summary\n",
    "        authors_list = summary.get('AuthorList', [])\n",
    "        authors = '; '.join([author for author in authors_list]) if authors_list else ''\n",
    "        \n",
    "        # Extract more details from full record\n",
    "        article = record['MedlineCitation']['Article']\n",
    "        \n",
    "        # Abstract\n",
    "        abstract = ''\n",
    "        if 'Abstract' in article:\n",
    "            abstract_texts = []\n",
    "            if 'AbstractText' in article['Abstract']:\n",
    "                for abs_text in article['Abstract']['AbstractText']:\n",
    "                    if isinstance(abs_text, str):\n",
    "                        abstract_texts.append(abs_text)\n",
    "                    else:\n",
    "                        # Handle structured abstracts with labels\n",
    "                        abstract_texts.append(str(abs_text))\n",
    "            abstract = ' '.join(abstract_texts)\n",
    "        \n",
    "        # Publication details\n",
    "        journal_info = article.get('Journal', {})\n",
    "        journal_title = journal_info.get('Title', journal)\n",
    "        \n",
    "        # Volume and issue\n",
    "        journal_issue = journal_info.get('JournalIssue', {})\n",
    "        volume = journal_issue.get('Volume', '')\n",
    "        issue = journal_issue.get('Issue', '')\n",
    "        \n",
    "        # Publication date details\n",
    "        pub_date_info = journal_issue.get('PubDate', {})\n",
    "        year = pub_date_info.get('Year', '')\n",
    "        month = pub_date_info.get('Month', '')\n",
    "        day = pub_date_info.get('Day', '')\n",
    "        \n",
    "        # DOI and other identifiers\n",
    "        doi = ''\n",
    "        pmc_id = ''\n",
    "        \n",
    "        if 'ELocationID' in article:\n",
    "            for eloc in article['ELocationID']:\n",
    "                if eloc.attributes.get('EIdType') == 'doi':\n",
    "                    doi = str(eloc)\n",
    "                elif eloc.attributes.get('EIdType') == 'pmc':\n",
    "                    pmc_id = str(eloc)\n",
    "        \n",
    "        # Keywords/MeSH terms\n",
    "        mesh_terms = []\n",
    "        if 'MeshHeadingList' in record['MedlineCitation']:\n",
    "            for mesh in record['MedlineCitation']['MeshHeadingList']:\n",
    "                descriptor = mesh['DescriptorName']\n",
    "                mesh_terms.append(str(descriptor))\n",
    "        \n",
    "        # Publication types\n",
    "        pub_types = []\n",
    "        if 'PublicationTypeList' in article:\n",
    "            pub_types = [str(pt) for pt in article['PublicationTypeList']]\n",
    "        \n",
    "        return {\n",
    "            'pmid': pmid,\n",
    "            'title': title,\n",
    "            'abstract': abstract,\n",
    "            'authors': authors,\n",
    "            'journal': journal_title,\n",
    "            'volume': volume,\n",
    "            'issue': issue,\n",
    "            'year': year,\n",
    "            'month': month,\n",
    "            'day': day,\n",
    "            'pub_date': pub_date,\n",
    "            'doi': doi,\n",
    "            'pmc_id': pmc_id,\n",
    "            'mesh_terms': '; '.join(mesh_terms),\n",
    "            'publication_types': '; '.join(pub_types),\n",
    "            'pubmed_url': f\"https://pubmed.ncbi.nlm.nih.gov/{pmid}/\",\n",
    "            'doi_url': f\"https://doi.org/{doi}\" if doi else ''\n",
    "        }\n",
    "        \n",
    "    except Exception as e:\n",
    "        print(f\"Error parsing article {pmid}: {e}\")\n",
    "        return None"
   ]
  },
  {
   "cell_type": "code",
   "execution_count": 10,
   "metadata": {
    "cellUniqueIdByVincent": "bcdb1"
   },
   "outputs": [],
   "source": [
    "def fetch_article_details(pmids, batch_size = 100):\n",
    "    articles = []\n",
    "\n",
    "    # Process in batches\n",
    "    for i in range(0, len(pmids), batch_size):\n",
    "        batch_pmids = pmids[i:i + batch_size]\n",
    "\n",
    "        print(f\"Fetching batch {i//batch_size + 1}/{(len(pmids)-1)//batch_size + 1} \"\n",
    "                  f\"({len(batch_pmids)} articles)...\")\n",
    "\n",
    "        try:\n",
    "            # Fetch article summaries first\n",
    "            handle = Entrez.esummary(db = \"pubmed\", id = \",\".join(batch_pmids))\n",
    "            summaries = Entrez.read(handle)\n",
    "            handle.close()\n",
    "\n",
    "            # Fetch full abstract records\n",
    "            handle = Entrez.efetch(\n",
    "                db = \"pubmed\",\n",
    "                id = \",\".join(batch_pmids),\n",
    "                rettype = \"medline\",\n",
    "                retmode = \"xml\"\n",
    "            )\n",
    "\n",
    "            records = Entrez.read(handle)\n",
    "            handle.close()\n",
    "\n",
    "            # Parse articles\n",
    "            for summary, record in zip(summaries, records['PubmedArticle']):\n",
    "                article_data = parse_article(summary, record)\n",
    "                if article_data:\n",
    "                    articles.append(article_data)\n",
    "            \n",
    "            # Simple rate limiter\n",
    "            #TODO: Implement the exponential backoff if need be\n",
    "            time.sleep(0.34) # 3 requests per second\n",
    "\n",
    "        except Exception as e:\n",
    "            print(f\"Error fetching batch {i//batch_size + 1}: {e}\")\n",
    "            continue\n",
    "    \n",
    "    return articles"
   ]
  },
  {
   "cell_type": "code",
   "execution_count": 15,
   "metadata": {
    "cellUniqueIdByVincent": "e268e"
   },
   "outputs": [
    {
     "name": "stdout",
     "output_type": "stream",
     "text": [
      "Fetching batch 1/1 (1 articles)...\n"
     ]
    },
    {
     "data": {
      "text/plain": [
       "[{'pmid': '7988166',\n",
       "  'title': 'Kurt Cobain.',\n",
       "  'abstract': '',\n",
       "  'authors': 'Kienhorst I',\n",
       "  'journal': 'Crisis',\n",
       "  'volume': '15',\n",
       "  'issue': '2',\n",
       "  'year': '1994',\n",
       "  'month': '',\n",
       "  'day': '',\n",
       "  'pub_date': '1994',\n",
       "  'doi': '',\n",
       "  'pmc_id': '',\n",
       "  'mesh_terms': 'Adolescent; Adult; Europe; Famous Persons; Female; History, 20th Century; Humans; Imitative Behavior; Male; Music; Social Conformity; Suicide; United States; Wounds, Gunshot',\n",
       "  'publication_types': 'Biography; Historical Article; Journal Article',\n",
       "  'pubmed_url': 'https://pubmed.ncbi.nlm.nih.gov/7988166/',\n",
       "  'doi_url': ''}]"
      ]
     },
     "execution_count": 15,
     "metadata": {},
     "output_type": "execute_result"
    }
   ],
   "source": [
    "fetch_article_details(['7988166'])"
   ]
  },
  {
   "cell_type": "code",
   "execution_count": 18,
   "metadata": {
    "cellUniqueIdByVincent": "57bff"
   },
   "outputs": [],
   "source": [
    "def advanced_search(**kwargs):\n",
    "    \"\"\"\n",
    "    Perform advanced search with multiple parameters\n",
    "    \n",
    "    Available parameters:\n",
    "    - query: Main search terms\n",
    "    - author: Author name\n",
    "    - journal: Journal name\n",
    "    - mesh_terms: MeSH terms list\n",
    "    - title_words: Words that must appear in title\n",
    "    - abstract_words: Words that must appear in abstract\n",
    "    - date_from/date_to: Date range\n",
    "    - publication_types: List of publication types\n",
    "    - languages: List of languages\n",
    "    - max_results: Maximum results\n",
    "    \"\"\"\n",
    "\n",
    "    search_parts = []\n",
    "    # Main query\n",
    "    if \"query\" in kwargs:\n",
    "        search_parts.append(kwargs[\"query\"])\n",
    "\n",
    "    # Author\n",
    "    if \"author\" in kwargs:\n",
    "        search_parts.append(f'\"{kwargs[\"author\"]}\"[Author]')\n",
    "    \n",
    "    # Journal\n",
    "    if \"journal\" in kwargs:\n",
    "        search_parts.append(f'\"{kwargs[\"journal\"]}\"[Journal]')\n",
    "\n",
    "    # Mesh terms\n",
    "    if \"mesh_terms\" in kwargs:\n",
    "        mesh_queries = [f'\"{term}\"[MeSH Terms]' for term in kwargs['mesh_terms']]\n",
    "        search_parts.append(f'({\" OR \".join(mesh_queries)})')\n",
    "\n",
    "    # Title words\n",
    "    if 'title_words' in kwargs:\n",
    "        title_queries = [f'\"{word}\"[Title]' for word in kwargs['title_words']]\n",
    "        search_parts.append(f'({\" AND \".join(title_queries)})')\n",
    "    \n",
    "    # Abstract words\n",
    "    if 'abstract_words' in kwargs:\n",
    "        abstract_queries = [f'\"{word}\"[Abstract]' for word in kwargs['abstract_words']]\n",
    "        search_parts.append(f'({\" AND \".join(abstract_queries)})')\n",
    "    \n",
    "    # Languages\n",
    "    if 'languages' in kwargs:\n",
    "        lang_queries = [f'\"{lang}\"[Language]' for lang in kwargs['languages']]\n",
    "        search_parts.append(f'({\" OR \".join(lang_queries)})')\n",
    "    \n",
    "    # Combine all parts\n",
    "    full_query = ' AND '.join(search_parts)\n",
    "\n",
    "    return search_pubmed(\n",
    "            query=full_query,\n",
    "            max_results=kwargs.get('max_results', 4),\n",
    "            date_from=kwargs.get('date_from'),\n",
    "            date_to=kwargs.get('date_to'),\n",
    "            publication_types=kwargs.get('publication_types')\n",
    "        )"
   ]
  },
  {
   "cell_type": "code",
   "execution_count": 19,
   "metadata": {
    "cellUniqueIdByVincent": "0df27"
   },
   "outputs": [
    {
     "name": "stdout",
     "output_type": "stream",
     "text": [
      "Searching PubMed with query: Kurt Cobain\n",
      "Found 4 total articles, retrieving 4 IDs\n"
     ]
    },
    {
     "data": {
      "text/plain": [
       "['7988166', '8897665', '26445123', '16179336']"
      ]
     },
     "execution_count": 19,
     "metadata": {},
     "output_type": "execute_result"
    }
   ],
   "source": [
    "advanced_search(query = \"Kurt Cobain\")"
   ]
  },
  {
   "cell_type": "code",
   "execution_count": 20,
   "metadata": {
    "cellUniqueIdByVincent": "07fd0"
   },
   "outputs": [
    {
     "name": "stdout",
     "output_type": "stream",
     "text": [
      "Fetching batch 1/1 (4 articles)...\n"
     ]
    },
    {
     "data": {
      "text/plain": [
       "[{'pmid': '7988166',\n",
       "  'title': 'Kurt Cobain.',\n",
       "  'abstract': '',\n",
       "  'authors': 'Kienhorst I',\n",
       "  'journal': 'Crisis',\n",
       "  'volume': '15',\n",
       "  'issue': '2',\n",
       "  'year': '1994',\n",
       "  'month': '',\n",
       "  'day': '',\n",
       "  'pub_date': '1994',\n",
       "  'doi': '',\n",
       "  'pmc_id': '',\n",
       "  'mesh_terms': 'Adolescent; Adult; Europe; Famous Persons; Female; History, 20th Century; Humans; Imitative Behavior; Male; Music; Social Conformity; Suicide; United States; Wounds, Gunshot',\n",
       "  'publication_types': 'Biography; Historical Article; Journal Article',\n",
       "  'pubmed_url': 'https://pubmed.ncbi.nlm.nih.gov/7988166/',\n",
       "  'doi_url': ''},\n",
       " {'pmid': '8897665',\n",
       "  'title': 'The Kurt Cobain suicide crisis: perspectives from research, public health, and the news media.',\n",
       "  'abstract': 'The suicide of rock star Kurt Cobain in 1994 raised immediate concerns among suicidologists and the public at large about the potential for his death to spark copycat suicides, especially among vulnerable youth. The Seattle community, where Cobain lived and died, was especially affected by his sudden death. An overview of Cobain\\'s life and death is presented and various crisis center and community-based interventions that occurred are discussed. Preliminary data collected from the Seattle Medical Examiner\\'s Office and from the Seattle Crisis Center to assess the potential impact of Cobain\\'s death on completed suicides and the incidence of suicide crisis calls are presented. The data obtained from the Seattle King County area suggest that the expected \"Werther effect\" apparently did not occur, but there was a significant increase in suicide crisis calls following his death. It is hypothesized that the lack of an apparent copycat effect in Seattle may be due to various aspects of the media coverage, the method used in Cobain\\'s suicide, and the crisis center and community outreach interventions that occurred. The Cobain suicide and the role of media influence on copycat suicides are further discussed in commentaries from public health and news media perspectives.',\n",
       "  'authors': \"Jobes DA; Berman AL; O'Carroll PW; Eastgard S; Knickmeyer S\",\n",
       "  'journal': 'Suicide & life-threatening behavior',\n",
       "  'volume': '26',\n",
       "  'issue': '3',\n",
       "  'year': '1996',\n",
       "  'month': '',\n",
       "  'day': '',\n",
       "  'pub_date': '1996 Fall',\n",
       "  'doi': '',\n",
       "  'pmc_id': '',\n",
       "  'mesh_terms': 'Adult; Community-Institutional Relations; Crisis Intervention; Famous Persons; History, 20th Century; Hotlines; Humans; Imitative Behavior; Interinstitutional Relations; Journalism, Medical; Male; Mass Media; Music; Public Health; Suicide; Time Factors; Washington; Suicide Prevention',\n",
       "  'publication_types': 'Biography; Historical Article; Journal Article',\n",
       "  'pubmed_url': 'https://pubmed.ncbi.nlm.nih.gov/8897665/',\n",
       "  'doi_url': ''},\n",
       " {'pmid': '26445123',\n",
       "  'title': \"Tourette's syndrome in famous musicians.\",\n",
       "  'abstract': \"Tourette's syndrome (TS) is defined as a disorder characterized by multiple motor tics and at least one vocal tic that have lasted for not less than one year. It is a relatively complex neurobehavioral disorder, in which patients may present with coexistent attention deficit hyperactivity disorder, obsessive-compulsive disorder or other behavioral comorbidities. The musical genius Wolfgang Amadeus Mozart (1756-1791) and the rock star Kurt Cobain (1967-1994) may both have suffered from TS, and some contemporary musicians have had their clinical condition confirmed as TS. Our hypothetical diagnosis of TS in Mozart and Cobain is based on the presence of tics and psychiatric comorbidities. In contemporary musicians, such as Michael Wolff, Nick Van Bloss and James Durbin, TS has often only been diagnosed after a considerable delay. This delay in diagnosis and the controversies surrounding the clinical case of Mozart show how difficult a confirmatory diagnosis of this complex disease is.\",\n",
       "  'authors': 'Camargo CH; Bronzini A',\n",
       "  'journal': 'Arquivos de neuro-psiquiatria',\n",
       "  'volume': '73',\n",
       "  'issue': '12',\n",
       "  'year': '2015',\n",
       "  'month': 'Dec',\n",
       "  'day': '',\n",
       "  'pub_date': '2015 Dec',\n",
       "  'doi': '10.1590/0004-282X20150148',\n",
       "  'pmc_id': '',\n",
       "  'mesh_terms': 'Attention Deficit Disorder with Hyperactivity; Comorbidity; Delayed Diagnosis; Famous Persons; History, 18th Century; History, 19th Century; History, 20th Century; Humans; Male; Music; Tic Disorders; Tourette Syndrome',\n",
       "  'publication_types': 'Historical Article; Journal Article; Portrait',\n",
       "  'pubmed_url': 'https://pubmed.ncbi.nlm.nih.gov/26445123/',\n",
       "  'doi_url': 'https://doi.org/10.1590/0004-282X20150148'},\n",
       " {'pmid': '16179336',\n",
       "  'title': \"Artists' suicides as a public good.\",\n",
       "  'abstract': \"This Commentary suggests that it is possible, from an economic perspective, that any individual artist/celebrity suicide may be of net benefit to society. Sales of the artist's products and associated merchandise may increase after the suicide, and people, including those who were not even born at the time of the suicide, may derive value from its iconic rectification, not to mention the higher value they derive from some private goods. A case study of Kurt Cobain is given to illustrate this phenomenon.\",\n",
       "  'authors': 'Cameron S; Yang B; Lester D',\n",
       "  'journal': 'Archives of suicide research : official journal of the International Academy for Suicide Research',\n",
       "  'volume': '9',\n",
       "  'issue': '4',\n",
       "  'year': '2005',\n",
       "  'month': '',\n",
       "  'day': '',\n",
       "  'pub_date': '2005',\n",
       "  'doi': '',\n",
       "  'pmc_id': '',\n",
       "  'mesh_terms': 'Adult; Art; Commerce; Cost of Illness; Cost-Benefit Analysis; Humans; Male; Music; Social Conditions; Suicide',\n",
       "  'publication_types': 'Case Reports; Journal Article',\n",
       "  'pubmed_url': 'https://pubmed.ncbi.nlm.nih.gov/16179336/',\n",
       "  'doi_url': ''}]"
      ]
     },
     "execution_count": 20,
     "metadata": {},
     "output_type": "execute_result"
    }
   ],
   "source": [
    "fetch_article_details(['7988166', '8897665', '26445123', '16179336'])"
   ]
  },
  {
   "cell_type": "code",
   "execution_count": null,
   "metadata": {
    "cellUniqueIdByVincent": "957d1"
   },
   "outputs": [],
   "source": []
  }
 ],
 "metadata": {
  "kernelspec": {
   "display_name": ".venv",
   "language": "python",
   "name": "python3"
  },
  "language_info": {
   "codemirror_mode": {
    "name": "ipython",
    "version": 3
   },
   "file_extension": ".py",
   "mimetype": "text/x-python",
   "name": "python",
   "nbconvert_exporter": "python",
   "pygments_lexer": "ipython3",
   "version": "3.13.3"
  },
  "vincent": {
   "sessionId": "205dfd640fc5b077051ac09e_2025-06-04T10-49-23-812Z"
  }
 },
 "nbformat": 4,
 "nbformat_minor": 5
}
