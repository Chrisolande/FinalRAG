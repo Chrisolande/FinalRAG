{
 "cells": [
  {
   "cell_type": "code",
   "execution_count": 1,
   "metadata": {
    "cellUniqueIdByVincent": "67e85"
   },
   "outputs": [],
   "source": [
    "from Bio import Entrez\n",
    "import pandas as pd\n",
    "import os\n",
    "import time\n",
    "import json\n",
    "from datetime import datetime\n",
    "import xml.etree.ElementTree as ET"
   ]
  },
  {
   "cell_type": "code",
   "execution_count": 13,
   "metadata": {
    "cellUniqueIdByVincent": "6f537"
   },
   "outputs": [],
   "source": [
    "Entrez.email = \"olandechris@gmail.com\""
   ]
  },
  {
   "cell_type": "code",
   "execution_count": null,
   "metadata": {
    "cellUniqueIdByVincent": "36e52"
   },
   "outputs": [],
   "source": [
    "def search_pubmed(query, max_results = 1, date_from = None, date_to = None, sort_order = \"relevance\", publication_types = None):\n",
    "    \n",
    "    search_term = query\n",
    "\n",
    "    # Add date filters\n",
    "    if date_from or date_to:\n",
    "        if date_from and date_to:\n",
    "            search_term += f' AND {date_from}[PDAT]:{date_to}[PDAT]'\n",
    "        elif date_from:\n",
    "            search_term += f' AND {date_from}[PDAT]:3000[PDAT]'\n",
    "        elif date_to:\n",
    "            search_term += f' AND 1900[PDAT]:{date_to}[PDAT]'\n",
    "\n",
    "    # Add publication type filters\n",
    "    if publication_types:\n",
    "        pub_filter = ' OR '.join([f'\"{pt}\"[Publication Type]' for pt in publication_types])\n",
    "        search_term += f' AND ({pub_filter})'\n",
    "    \n",
    "    print(f\"Searching PubMed with query: {search_term}\")\n",
    "\n",
    "    try: \n",
    "        # Perform the search\n",
    "        handle = Entrez.esearch(\n",
    "            db = \"pubmed\",\n",
    "            term=search_term,\n",
    "            retmax=max_results,\n",
    "            sort=sort_order\n",
    "        )\n",
    "\n",
    "        search_results = Entrez.read(handle)\n",
    "\n",
    "        handle.close()\n",
    "\n",
    "        pmids = search_results[\"IdList\"]\n",
    "        count = int(search_results[\"Count\"])\n",
    "        \n",
    "        print(f\"Found {count} total articles, retrieving {len(pmids)} IDs\")\n",
    "        return pmids\n",
    "\n",
    "    except Exception as e:\n",
    "        print(f\"Search error: {e}\")\n",
    "        return []\n",
    "\n",
    "        "
   ]
  },
  {
   "cell_type": "code",
   "execution_count": 6,
   "metadata": {
    "cellUniqueIdByVincent": "b4b05"
   },
   "outputs": [
    {
     "name": "stdout",
     "output_type": "stream",
     "text": [
      "Searching PubMed with query: Kurt Cobain\n",
      "Found 4 total articles, retrieving 1 IDs\n"
     ]
    },
    {
     "data": {
      "text/plain": [
       "['7988166']"
      ]
     },
     "execution_count": 6,
     "metadata": {},
     "output_type": "execute_result"
    }
   ],
   "source": [
    "search_pubmed(\"Kurt Cobain\")"
   ]
  },
  {
   "cell_type": "code",
   "execution_count": null,
   "metadata": {
    "cellUniqueIdByVincent": "029cb"
   },
   "outputs": [],
   "source": [
    "https://pubmed.ncbi.nlm.nih.gov/7988166"
   ]
  },
  {
   "cell_type": "code",
   "execution_count": 9,
   "metadata": {
    "cellUniqueIdByVincent": "42b51"
   },
   "outputs": [],
   "source": [
    "def parse_article(summary, record):\n",
    "    \"\"\"Parse article summary and record into structured data\"\"\"\n",
    "    try:\n",
    "        # Basic info from summary\n",
    "        pmid = str(summary.get('Id', ''))\n",
    "        title = summary.get('Title', '').strip()\n",
    "        \n",
    "        # Journal info\n",
    "        journal = summary.get('Source', '')\n",
    "        pub_date = summary.get('PubDate', '')\n",
    "        \n",
    "        # Authors from summary\n",
    "        authors_list = summary.get('AuthorList', [])\n",
    "        authors = '; '.join([author for author in authors_list]) if authors_list else ''\n",
    "        \n",
    "        # Extract more details from full record\n",
    "        article = record['MedlineCitation']['Article']\n",
    "        \n",
    "        # Abstract\n",
    "        abstract = ''\n",
    "        if 'Abstract' in article:\n",
    "            abstract_texts = []\n",
    "            if 'AbstractText' in article['Abstract']:\n",
    "                for abs_text in article['Abstract']['AbstractText']:\n",
    "                    if isinstance(abs_text, str):\n",
    "                        abstract_texts.append(abs_text)\n",
    "                    else:\n",
    "                        # Handle structured abstracts with labels\n",
    "                        abstract_texts.append(str(abs_text))\n",
    "            abstract = ' '.join(abstract_texts)\n",
    "        \n",
    "        # Publication details\n",
    "        journal_info = article.get('Journal', {})\n",
    "        journal_title = journal_info.get('Title', journal)\n",
    "        \n",
    "        # Volume and issue\n",
    "        journal_issue = journal_info.get('JournalIssue', {})\n",
    "        volume = journal_issue.get('Volume', '')\n",
    "        issue = journal_issue.get('Issue', '')\n",
    "        \n",
    "        # Publication date details\n",
    "        pub_date_info = journal_issue.get('PubDate', {})\n",
    "        year = pub_date_info.get('Year', '')\n",
    "        month = pub_date_info.get('Month', '')\n",
    "        day = pub_date_info.get('Day', '')\n",
    "        \n",
    "        # DOI and other identifiers\n",
    "        doi = ''\n",
    "        pmc_id = ''\n",
    "        \n",
    "        if 'ELocationID' in article:\n",
    "            for eloc in article['ELocationID']:\n",
    "                if eloc.attributes.get('EIdType') == 'doi':\n",
    "                    doi = str(eloc)\n",
    "                elif eloc.attributes.get('EIdType') == 'pmc':\n",
    "                    pmc_id = str(eloc)\n",
    "        \n",
    "        # Keywords/MeSH terms\n",
    "        mesh_terms = []\n",
    "        if 'MeshHeadingList' in record['MedlineCitation']:\n",
    "            for mesh in record['MedlineCitation']['MeshHeadingList']:\n",
    "                descriptor = mesh['DescriptorName']\n",
    "                mesh_terms.append(str(descriptor))\n",
    "        \n",
    "        # Publication types\n",
    "        pub_types = []\n",
    "        if 'PublicationTypeList' in article:\n",
    "            pub_types = [str(pt) for pt in article['PublicationTypeList']]\n",
    "        \n",
    "        return {\n",
    "            'pmid': pmid,\n",
    "            'title': title,\n",
    "            'abstract': abstract,\n",
    "            'authors': authors,\n",
    "            'journal': journal_title,\n",
    "            'volume': volume,\n",
    "            'issue': issue,\n",
    "            'year': year,\n",
    "            'month': month,\n",
    "            'day': day,\n",
    "            'pub_date': pub_date,\n",
    "            'doi': doi,\n",
    "            'pmc_id': pmc_id,\n",
    "            'mesh_terms': '; '.join(mesh_terms),\n",
    "            'publication_types': '; '.join(pub_types),\n",
    "            'pubmed_url': f\"https://pubmed.ncbi.nlm.nih.gov/{pmid}/\",\n",
    "            'doi_url': f\"https://doi.org/{doi}\" if doi else ''\n",
    "        }\n",
    "        \n",
    "    except Exception as e:\n",
    "        print(f\"Error parsing article {pmid}: {e}\")\n",
    "        return None"
   ]
  },
  {
   "cell_type": "code",
   "execution_count": 10,
   "metadata": {
    "cellUniqueIdByVincent": "bcdb1"
   },
   "outputs": [],
   "source": [
    "def fetch_article_details(pmids, batch_size = 100):\n",
    "    articles = []\n",
    "\n",
    "    # Process in batches\n",
    "    for i in range(0, len(pmids), batch_size):\n",
    "        batch_pmids = pmids[i:i + batch_size]\n",
    "\n",
    "        print(f\"Fetching batch {i//batch_size + 1}/{(len(pmids)-1)//batch_size + 1} \"\n",
    "                  f\"({len(batch_pmids)} articles)...\")\n",
    "\n",
    "        try:\n",
    "            # Fetch article summaries first\n",
    "            handle = Entrez.esummary(db = \"pubmed\", id = \",\".join(batch_pmids))\n",
    "            summaries = Entrez.read(handle)\n",
    "            handle.close()\n",
    "\n",
    "            # Fetch full abstract records\n",
    "            handle = Entrez.efetch(\n",
    "                db = \"pubmed\",\n",
    "                id = \",\".join(batch_pmids),\n",
    "                rettype = \"medline\",\n",
    "                retmode = \"xml\"\n",
    "            )\n",
    "\n",
    "            records = Entrez.read(handle)\n",
    "            handle.close()\n",
    "\n",
    "            # Parse articles\n",
    "            for summary, record in zip(summaries, records['PubmedArticle']):\n",
    "                article_data = parse_article(summary, record)\n",
    "                if article_data:\n",
    "                    articles.append(article_data)\n",
    "            \n",
    "            # Simple rate limiter\n",
    "            #TODO: Implement the exponential backoff if need be\n",
    "            time.sleep(0.34) # 3 requests per second\n",
    "\n",
    "        except Exception as e:\n",
    "            print(f\"Error fetching batch {i//batch_size + 1}: {e}\")\n",
    "            continue\n",
    "    \n",
    "    return articles"
   ]
  },
  {
   "cell_type": "code",
   "execution_count": 15,
   "metadata": {
    "cellUniqueIdByVincent": "e268e"
   },
   "outputs": [
    {
     "name": "stdout",
     "output_type": "stream",
     "text": [
      "Fetching batch 1/1 (1 articles)...\n"
     ]
    },
    {
     "data": {
      "text/plain": [
       "[{'pmid': '7988166',\n",
       "  'title': 'Kurt Cobain.',\n",
       "  'abstract': '',\n",
       "  'authors': 'Kienhorst I',\n",
       "  'journal': 'Crisis',\n",
       "  'volume': '15',\n",
       "  'issue': '2',\n",
       "  'year': '1994',\n",
       "  'month': '',\n",
       "  'day': '',\n",
       "  'pub_date': '1994',\n",
       "  'doi': '',\n",
       "  'pmc_id': '',\n",
       "  'mesh_terms': 'Adolescent; Adult; Europe; Famous Persons; Female; History, 20th Century; Humans; Imitative Behavior; Male; Music; Social Conformity; Suicide; United States; Wounds, Gunshot',\n",
       "  'publication_types': 'Biography; Historical Article; Journal Article',\n",
       "  'pubmed_url': 'https://pubmed.ncbi.nlm.nih.gov/7988166/',\n",
       "  'doi_url': ''}]"
      ]
     },
     "execution_count": 15,
     "metadata": {},
     "output_type": "execute_result"
    }
   ],
   "source": [
    "fetch_article_details(['7988166'])"
   ]
  },
  {
   "cell_type": "code",
   "execution_count": null,
   "metadata": {
    "cellUniqueIdByVincent": "57bff"
   },
   "outputs": [],
   "source": []
  }
 ],
 "metadata": {
  "kernelspec": {
   "display_name": ".venv",
   "language": "python",
   "name": "python3"
  },
  "language_info": {
   "codemirror_mode": {
    "name": "ipython",
    "version": 3
   },
   "file_extension": ".py",
   "mimetype": "text/x-python",
   "name": "python",
   "nbconvert_exporter": "python",
   "pygments_lexer": "ipython3",
   "version": "3.13.3"
  },
  "vincent": {
   "sessionId": "205dfd640fc5b077051ac09e_2025-06-04T10-49-23-812Z"
  }
 },
 "nbformat": 4,
 "nbformat_minor": 5
}
