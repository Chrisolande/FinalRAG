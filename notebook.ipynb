{
 "cells": [
  {
   "cell_type": "code",
   "execution_count": 35,
   "metadata": {
    "cellUniqueIdByVincent": "be98c"
   },
   "outputs": [
    {
     "name": "stdout",
     "output_type": "stream",
     "text": [
      "Searching PubMed with query:  AND 2023/01/01[PDAT]:2025/06/01[PDAT]\n",
      "Found 3919060 total articles, retrieving 3000 IDs\n",
      "Fetching batch 1/30 (100 articles)...\n",
      "Fetching batch 2/30 (100 articles)...\n",
      "Fetching batch 3/30 (100 articles)...\n",
      "Fetching batch 4/30 (100 articles)...\n",
      "Fetching batch 5/30 (100 articles)...\n",
      "Fetching batch 6/30 (100 articles)...\n",
      "Fetching batch 7/30 (100 articles)...\n",
      "Fetching batch 8/30 (100 articles)...\n",
      "Fetching batch 9/30 (100 articles)...\n",
      "Fetching batch 10/30 (100 articles)...\n",
      "Fetching batch 11/30 (100 articles)...\n",
      "Fetching batch 12/30 (100 articles)...\n",
      "Fetching batch 13/30 (100 articles)...\n",
      "Fetching batch 14/30 (100 articles)...\n",
      "Fetching batch 15/30 (100 articles)...\n",
      "Fetching batch 16/30 (100 articles)...\n",
      "Fetching batch 17/30 (100 articles)...\n",
      "Fetching batch 18/30 (100 articles)...\n",
      "Fetching batch 19/30 (100 articles)...\n",
      "Fetching batch 20/30 (100 articles)...\n",
      "Fetching batch 21/30 (100 articles)...\n",
      "Fetching batch 22/30 (100 articles)...\n",
      "Fetching batch 23/30 (100 articles)...\n",
      "Fetching batch 24/30 (100 articles)...\n",
      "Fetching batch 25/30 (100 articles)...\n",
      "Fetching batch 26/30 (100 articles)...\n",
      "Fetching batch 27/30 (100 articles)...\n",
      "Fetching batch 28/30 (100 articles)...\n",
      "Fetching batch 29/30 (100 articles)...\n",
      "Fetching batch 30/30 (100 articles)...\n",
      "Saved 2998 articles to research20250605_002659.json\n"
     ]
    }
   ],
   "source": [
    "from PubMedDownloader import PubMedEntrezDownloader\n",
    "from datetime import datetime\n",
    "import os\n",
    "from dotenv import load_dotenv\n",
    "load_dotenv()\n",
    "\n",
    "downloader = PubMedEntrezDownloader(email=\"olandechris@gmail.com\", api_key = os.getenv(\"PUBMED_API_KEY\"))\n",
    "\n",
    "pmids = downloader.advanced_search(\n",
    "    #query=\"Diabetes treatment\",\n",
    "    #mesh_terms=[\"Music\"],\n",
    "    #title_words=,\n",
    "    #journal = ,\n",
    "    #publication_types=[\"Journal Article\", \"Review\"],\n",
    "    #languages=[\"eng\"],\n",
    "    date_from=\"2023/01/01\",\n",
    "    date_to = \"2025/06/01\",\n",
    "    max_results=3000\n",
    ")\n",
    "\n",
    "articles = downloader.fetch_article_details(pmids)\n",
    "\n",
    "timestamp = datetime.now().strftime(\"%Y%m%d_%H%M%S\")\n",
    "downloader.save_to_json(articles, f\"research{timestamp}.json\")"
   ]
  },
  {
   "cell_type": "code",
   "execution_count": 40,
   "metadata": {
    "cellUniqueIdByVincent": "9e81c"
   },
   "outputs": [],
   "source": [
    "def get_article_statistics(articles):\n",
    "        \"\"\"Generate basic statistics about downloaded articles\"\"\"\n",
    "        if not articles:\n",
    "            return {}\n",
    "        \n",
    "        df = pd.DataFrame(articles)\n",
    "        \n",
    "        stats = {\n",
    "            'total_articles': len(articles),\n",
    "            'articles_with_abstracts': len(df[df['abstract'].str.len() > 0]),\n",
    "            'date_range': {\n",
    "                'earliest': df['year'].min(),\n",
    "                'latest': df['year'].max()\n",
    "            },\n",
    "            'top_journals': df['journal'].value_counts().head(10).to_dict(),\n",
    "            'publication_types': df['publication_types'].value_counts().head(10).to_dict(),\n",
    "            'articles_per_year': df['year'].value_counts().sort_index().to_dict()\n",
    "        }\n",
    "        \n",
    "        return stats\n",
    "\n",
    "# Monkey patch it onto your instance\n",
    "import types\n",
    "downloader.get_article_statistics = types.MethodType(get_article_statistics, downloader)\n"
   ]
  },
  {
   "cell_type": "code",
   "execution_count": null,
   "metadata": {
    "cellUniqueIdByVincent": "92425"
   },
   "outputs": [
    {
     "data": {
      "text/plain": [
       "{'total_articles': 2998,\n",
       " 'articles_with_abstracts': 2452,\n",
       " 'date_range': {'earliest': '', 'latest': '2025'},\n",
       " 'top_journals': {'Scientific reports': 34,\n",
       "  'PloS one': 33,\n",
       "  'Methods in molecular biology (Clifton, N.J.)': 26,\n",
       "  'International journal of biological macromolecules': 24,\n",
       "  'Cureus': 20,\n",
       "  'Optics letters': 18,\n",
       "  'Advanced science (Weinheim, Baden-Wurttemberg, Germany)': 17,\n",
       "  'Journal of the American Chemical Society': 17,\n",
       "  'Small (Weinheim an der Bergstrasse, Germany)': 16,\n",
       "  'The Journal of organic chemistry': 15},\n",
       " 'publication_types': {'Journal Article': 2216,\n",
       "  'Journal Article; Review': 266,\n",
       "  'Letter': 115,\n",
       "  'Editorial': 71,\n",
       "  'Published Erratum': 56,\n",
       "  'Case Reports; Journal Article': 54,\n",
       "  'News': 22,\n",
       "  'Journal Article; Retraction Notice': 20,\n",
       "  'English Abstract; Journal Article': 18,\n",
       "  'Journal Article; Case Reports': 13},\n",
       " 'articles_per_year': {'': 12, '2024': 10, '2025': 2976}}"
      ]
     },
     "execution_count": 41,
     "metadata": {},
     "output_type": "execute_result"
    }
   ],
   "source": [
    "get_article_statistics(articles)"
   ]
  },
  {
   "cell_type": "code",
   "execution_count": null,
   "metadata": {
    "cellUniqueIdByVincent": "fab55"
   },
   "outputs": [],
   "source": []
  }
 ],
 "metadata": {
  "kernelspec": {
   "display_name": ".venv",
   "language": "python",
   "name": "python3"
  },
  "language_info": {
   "codemirror_mode": {
    "name": "ipython",
    "version": 3
   },
   "file_extension": ".py",
   "mimetype": "text/x-python",
   "name": "python",
   "nbconvert_exporter": "python",
   "pygments_lexer": "ipython3",
   "version": "3.13.3"
  },
  "vincent": {
   "sessionId": "44b5cf624f204759c9d6d0b6_2025-06-04T10-05-55-489Z"
  }
 },
 "nbformat": 4,
 "nbformat_minor": 5
}
